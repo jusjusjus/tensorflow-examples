{
 "cells": [
  {
   "cell_type": "code",
   "execution_count": null,
   "metadata": {
    "collapsed": true
   },
   "outputs": [],
   "source": [
    "import numpy as np\n",
    "import tensorflow as tf"
   ]
  },
  {
   "cell_type": "code",
   "execution_count": null,
   "metadata": {
    "collapsed": true
   },
   "outputs": [],
   "source": [
    "def get_data(batch_size=128, dims=(4, 3800)):\n",
    "    return np.random.randn(batch_size, *dims), np.random.randint(0, 5, size=batch_size)\n",
    "\n",
    "def floats_feature(arr):\n",
    "    return tf.train.Feature(float_list=tf.train.FloatList(value=arr.flatten().tolist()))\n",
    "\n",
    "def int_feature(i):\n",
    "    return tf.train.Feature(int64_list=tf.train.Int64List(value=[i]))"
   ]
  },
  {
   "cell_type": "markdown",
   "metadata": {},
   "source": [
    "# Write random data to tf records file"
   ]
  },
  {
   "cell_type": "code",
   "execution_count": null,
   "metadata": {
    "collapsed": true
   },
   "outputs": [],
   "source": [
    "features, target = get_data()\n",
    "output_fname='test.tfrecords'\n",
    "\n",
    "writer = tf.python_io .TFRecordWriter(output_fname)\n",
    "for i, (np_features, np_target) in enumerate(zip(features, target)):\n",
    "    tf_features_map = {\n",
    "        'ch%i'%ch: floats_feature(x)\n",
    "        for ch, x in enumerate(np_features)\n",
    "    }\n",
    "    tf_features_map['target'] = int_feature(np_target)\n",
    "    tf_features = tf.train.Features(feature=tf_features_map)\n",
    "    tf_example = tf.train.Example(features=tf_features)\n",
    "\n",
    "    writer.write(tf_example.SerializeToString())\n",
    "\n",
    "writer.close()"
   ]
  },
  {
   "cell_type": "markdown",
   "metadata": {},
   "source": [
    "# Read the data from the tf records file, again"
   ]
  },
  {
   "cell_type": "code",
   "execution_count": null,
   "metadata": {
    "collapsed": true
   },
   "outputs": [],
   "source": [
    "f = './test.tfrecords'\n",
    "\n",
    "feature_map = {\n",
    "    'ch%i'%c: tf.FixedLenSequenceFeature(shape=(), dtype=tf.float32, allow_missing=True)\n",
    "    for c in range(4)\n",
    "}\n",
    "feature_map['target'] = tf.FixedLenSequenceFeature(shape=(), dtype=tf.int64, allow_missing=True)\n",
    "fname_q = tf.train.string_input_producer([f], num_epochs=1, shuffle=False)\n",
    "_, serialized = tf.TFRecordReader().read_up_to(fname_q, 128)\n",
    "example = tf.parse_example(serialized, features=feature_map)\n",
    "target = example['target']\n",
    "target = tf.squeeze(target, axis=1)"
   ]
  },
  {
   "cell_type": "markdown",
   "metadata": {},
   "source": [
    "Read all"
   ]
  },
  {
   "cell_type": "code",
   "execution_count": null,
   "metadata": {},
   "outputs": [],
   "source": [
    "with tf.Session() as S:\n",
    "    S.run(tf.local_variables_initializer())\n",
    "    coord = tf.train.Coordinator()\n",
    "    threads = tf.train.start_queue_runners(coord=coord)\n",
    "    while True:\n",
    "        try:\n",
    "            t = S.run(example)\n",
    "            print(len(t), t)\n",
    "        except tf.errors.OutOfRangeError:\n",
    "            print(\"end of file reached\")\n",
    "            break\n",
    "    coord.request_stop()\n",
    "    coord.join(threads)"
   ]
  },
  {
   "cell_type": "markdown",
   "metadata": {},
   "source": [
    "Read the target data"
   ]
  },
  {
   "cell_type": "code",
   "execution_count": null,
   "metadata": {
    "collapsed": true
   },
   "outputs": [],
   "source": [
    "with tf.Session() as S:\n",
    "    S.run(tf.local_variables_initializer())\n",
    "    coord = tf.train.Coordinator()\n",
    "    threads = tf.train.start_queue_runners(coord=coord)\n",
    "    while True:\n",
    "        try:\n",
    "            t = S.run(target)\n",
    "            print(len(t), t)\n",
    "        except tf.errors.OutOfRangeError:\n",
    "            print(\"end of file reached\")\n",
    "            break\n",
    "    coord.request_stop()\n",
    "    coord.join(threads)"
   ]
  },
  {
   "cell_type": "markdown",
   "metadata": {},
   "source": [
    "Read the feature data"
   ]
  },
  {
   "cell_type": "code",
   "execution_count": null,
   "metadata": {
    "collapsed": true
   },
   "outputs": [],
   "source": [
    "with tf.Session() as S:\n",
    "    S.run(tf.local_variables_initializer())\n",
    "    coord = tf.train.Coordinator()\n",
    "    threads = tf.train.start_queue_runners(coord=coord)\n",
    "    while True:\n",
    "        try:\n",
    "            t = S.run(example['ch0'])\n",
    "            print(len(t), t)\n",
    "        except tf.errors.OutOfRangeError:\n",
    "            print(\"end of file reached\")\n",
    "            break\n",
    "    coord.request_stop()\n",
    "    coord.join(threads)"
   ]
  }
 ],
 "metadata": {
  "kernelspec": {
   "display_name": "Python 3",
   "language": "python",
   "name": "python3"
  },
  "language_info": {
   "codemirror_mode": {
    "name": "ipython",
    "version": 3
   },
   "file_extension": ".py",
   "mimetype": "text/x-python",
   "name": "python",
   "nbconvert_exporter": "python",
   "pygments_lexer": "ipython3",
   "version": "3.6.1"
  }
 },
 "nbformat": 4,
 "nbformat_minor": 2
}
