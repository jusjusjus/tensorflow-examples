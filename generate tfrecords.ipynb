{
 "cells": [
  {
   "cell_type": "code",
   "execution_count": null,
   "metadata": {
    "collapsed": false
   },
   "outputs": [],
   "source": [
    "import numpy as np\n",
    "import tensorflow as tf"
   ]
  },
  {
   "cell_type": "code",
   "execution_count": null,
   "metadata": {
    "collapsed": false
   },
   "outputs": [],
   "source": [
    "def get_data(batch_size=128, dims=(3800, 4)):\n",
    "    return np.random.randn(128, *dims), np.random.randint(0, 5, size=batch_size)\n",
    "\n",
    "def floats_feature(arr):\n",
    "    return tf.train.Feature(float_list=tf.train.FloatList(value=arr.flatten().tolist()))\n",
    "\n",
    "def int_feature(i):\n",
    "    return tf.train.Feature(int64_list=tf.train.Int64List(value=[i]))"
   ]
  },
  {
   "cell_type": "code",
   "execution_count": null,
   "metadata": {
    "collapsed": false
   },
   "outputs": [],
   "source": [
    "features, target = get_data()\n",
    "output_fname='test.tfrecords'\n",
    "\n",
    "writer = tf.python_io .TFRecordWriter(output_fname)\n",
    "for i, (np_features, np_target) in enumerate(zip(features, target)):\n",
    "    tf_features_map = {\n",
    "        'ch%i'%ch: floats_feature(x)\n",
    "        for ch, x in enumerate(np_features)\n",
    "    }\n",
    "    tf_features_map['target'] = int_feature(np_target)\n",
    "    tf_features = tf.train.Features(feature=tf_features_map)\n",
    "    tf_example = tf.train.Example(features=tf_features)\n",
    "\n",
    "    writer.write(tf_example.SerializeToString())\n",
    "\n",
    "writer.close()"
   ]
  }
 ],
 "metadata": {
  "kernelspec": {
   "display_name": "Python 3",
   "language": "python",
   "name": "python3"
  },
  "language_info": {
   "codemirror_mode": {
    "name": "ipython",
    "version": 3
   },
   "file_extension": ".py",
   "mimetype": "text/x-python",
   "name": "python",
   "nbconvert_exporter": "python",
   "pygments_lexer": "ipython3",
   "version": "3.5.2"
  }
 },
 "nbformat": 4,
 "nbformat_minor": 2
}
